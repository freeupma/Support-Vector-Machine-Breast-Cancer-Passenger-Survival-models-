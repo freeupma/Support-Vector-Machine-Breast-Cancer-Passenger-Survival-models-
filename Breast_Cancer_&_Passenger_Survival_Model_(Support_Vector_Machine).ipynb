{
  "nbformat": 4,
  "nbformat_minor": 0,
  "metadata": {
    "colab": {
      "provenance": []
    },
    "kernelspec": {
      "name": "python3",
      "display_name": "Python 3"
    },
    "language_info": {
      "name": "python"
    }
  },
  "cells": [
    {
      "cell_type": "markdown",
      "source": [
        "\n",
        "\n",
        "**1.  Breast Cancer Detection Model(Benign or Malignant)**\n",
        "\n",
        "\n"
      ],
      "metadata": {
        "id": "ODgZamxntpRg"
      }
    },
    {
      "cell_type": "markdown",
      "source": [
        "#### I will take breast cancer dataset from the sklearn library implement support vector machine algorithm and find the accuracy for my model."
      ],
      "metadata": {
        "id": "3_-7XdbLic_G"
      }
    },
    {
      "cell_type": "code",
      "execution_count": null,
      "metadata": {
        "colab": {
          "base_uri": "https://localhost:8080/"
        },
        "id": "ltwyKo9gV_Rj",
        "outputId": "76604c6b-a229-40a3-b4e6-0c942434a9a0"
      },
      "outputs": [
        {
          "output_type": "stream",
          "name": "stdout",
          "text": [
            "Labels:  ['malignant' 'benign']\n"
          ]
        }
      ],
      "source": [
        "# Imported libraries \n",
        "#Printed the labels\n",
        "#Imported the dataset\n",
        "import numpy as np\n",
        "import matplotlib.pyplot as plt\n",
        "from sklearn import svm\n",
        "from sklearn import datasets\n",
        "cancer = datasets.load_breast_cancer()\n",
        "print(\"Labels: \", cancer.target_names)\n",
        "from sklearn.metrics import confusion_matrix"
      ]
    },
    {
      "cell_type": "markdown",
      "source": [
        "### I have imported libraries, the dataset and printed out the labels\n"
      ],
      "metadata": {
        "id": "I1MvU0pdXIBk"
      }
    },
    {
      "cell_type": "code",
      "source": [
        "# Split the dataset using train_test-split from sklearn\n",
        "# Model evaluation using accuracy score and confusion matrix\n",
        "# Import SVC and fit the training data using linear kernel\n",
        "# Make a prediction on y-test\n",
        "# Calculate the accuracy\n",
        "from sklearn.model_selection import train_test_split\n",
        "X_train, X_test, y_train, y_test = train_test_split(cancer.data, cancer.target, test_size=0.4,random_state=99)\n",
        "classifier = svm.SVC(kernel='linear')\n",
        " \n",
        "classifier.fit(X_train, y_train)\n",
        "y_pred = classifier.predict(X_test)\n",
        "from sklearn import metrics\n",
        "print(\"Accuracy:\",metrics.accuracy_score(y_test, y_pred))\n",
        "confusion_matrix = confusion_matrix(y_test, y_pred)\n",
        "confusion_matrix"
      ],
      "metadata": {
        "colab": {
          "base_uri": "https://localhost:8080/"
        },
        "id": "ZUmdFRnIWlZD",
        "outputId": "e8c5cb9c-6a8a-4d92-d9ab-f40161e04bd3"
      },
      "execution_count": null,
      "outputs": [
        {
          "output_type": "stream",
          "name": "stdout",
          "text": [
            "Accuracy: 0.9605263157894737\n"
          ]
        },
        {
          "output_type": "execute_result",
          "data": {
            "text/plain": [
              "array([[ 73,   3],\n",
              "       [  6, 146]])"
            ]
          },
          "metadata": {},
          "execution_count": 12
        }
      ]
    },
    {
      "cell_type": "markdown",
      "source": [
        ".      Splitted the dataset using train_test-split from sklearn.\n",
        "\n",
        "For evaluation of the model imported accuracy_score and confusion matrix\n",
        "\n",
        "Initiated object for SVC that is svc_model and fitted the training data to the model. Used ‘linear’ as a kernel.\n",
        "\n",
        "Made a prediction on y_test and calculated accuracy score on test data \n",
        "\n",
        "The accuracy is 96%.\n",
        " 73 positve class data points were correctly classified by the model\n",
        "\n",
        " 146 negative class datapoints were correctly classified by the model\n",
        "\n",
        " 3 negative class data points were incorrectly classified as belonging to the positive class\n",
        "\n",
        " 6 positive class points were incorrectly classified as belonging to the negative class of the model"
      ],
      "metadata": {
        "id": "li9wNHD2bzH9"
      }
    },
    {
      "cell_type": "markdown",
      "source": [
        "\n",
        "**2.   Passengers Survived or Not Model(Titanic Dataset)**\n",
        "\n"
      ],
      "metadata": {
        "id": "m2OU5s_duG00"
      }
    },
    {
      "cell_type": "code",
      "source": [
        "# Imported libraries \n",
        "#Printed the labels\n",
        "#Imported the dataset\n",
        "import pandas as pd\n",
        "import numpy as np\n",
        "import matplotlib.pyplot as plt\n",
        "from sklearn import svm\n",
        "from sklearn import datasets\n",
        "from sklearn.preprocessing import LabelEncoder\n",
        "from sklearn.metrics import confusion_matrix"
      ],
      "metadata": {
        "id": "jM8o_hQ-lLTc"
      },
      "execution_count": null,
      "outputs": []
    },
    {
      "cell_type": "code",
      "source": [
        "#Load the dataset\n",
        "# print the labels\n",
        "titanicc=pd.read_csv(\"/content/drive/MyDrive/Titanic.csv\")\n",
        "titanicc.head()\n",
        "\n",
        "print(\"Labels: \", titanicc.Survived)"
      ],
      "metadata": {
        "colab": {
          "base_uri": "https://localhost:8080/"
        },
        "id": "467QB6nLliC6",
        "outputId": "87e6bf97-c7d3-43ed-fc93-2441c0dd6c2b"
      },
      "execution_count": null,
      "outputs": [
        {
          "output_type": "stream",
          "name": "stdout",
          "text": [
            "Labels:  0      0\n",
            "1      1\n",
            "2      0\n",
            "3      0\n",
            "4      1\n",
            "      ..\n",
            "413    0\n",
            "414    1\n",
            "415    0\n",
            "416    0\n",
            "417    0\n",
            "Name: Survived, Length: 418, dtype: int64\n"
          ]
        }
      ]
    },
    {
      "cell_type": "code",
      "source": [
        "# converting to numerical dummies and assigning to variables\n",
        "Name = titanicc[['Name']].apply(LabelEncoder().fit_transform)\n",
        "Sex = titanicc[['Sex']].apply(LabelEncoder().fit_transform)\n",
        "Cabin = titanicc[['Cabin']].apply(LabelEncoder().fit_transform)\n",
        "Ticket = titanicc[['Ticket']].apply(LabelEncoder().fit_transform)\n",
        "Embarked = titanicc[['Embarked']].apply(LabelEncoder().fit_transform)\n",
        "\n"
      ],
      "metadata": {
        "id": "Wqxzo4tAn1LU"
      },
      "execution_count": null,
      "outputs": []
    },
    {
      "cell_type": "code",
      "source": [
        "# combining variables for numerical dummies to one dataFrame\n",
        "titanicc_data = pd.concat([Name,Sex, Cabin,Ticket,Embarked], axis = 1)"
      ],
      "metadata": {
        "id": "aQxxKrUApKSM"
      },
      "execution_count": null,
      "outputs": []
    },
    {
      "cell_type": "code",
      "source": [
        "titanicc_data.head()"
      ],
      "metadata": {
        "colab": {
          "base_uri": "https://localhost:8080/",
          "height": 206
        },
        "id": "j5MziRttpb4G",
        "outputId": "6efe9ef9-86cd-4ac1-b0aa-84db7a162b9e"
      },
      "execution_count": null,
      "outputs": [
        {
          "output_type": "execute_result",
          "data": {
            "text/plain": [
              "   Name  Sex  Cabin  Ticket  Embarked\n",
              "0   206    1     76     152         1\n",
              "1   403    0     76     221         2\n",
              "2   269    1     76      73         1\n",
              "3   408    1     76     147         2\n",
              "4   178    0     76     138         2"
            ],
            "text/html": [
              "\n",
              "  <div id=\"df-a664ecf1-cea5-4158-8a92-f03c747b96b6\">\n",
              "    <div class=\"colab-df-container\">\n",
              "      <div>\n",
              "<style scoped>\n",
              "    .dataframe tbody tr th:only-of-type {\n",
              "        vertical-align: middle;\n",
              "    }\n",
              "\n",
              "    .dataframe tbody tr th {\n",
              "        vertical-align: top;\n",
              "    }\n",
              "\n",
              "    .dataframe thead th {\n",
              "        text-align: right;\n",
              "    }\n",
              "</style>\n",
              "<table border=\"1\" class=\"dataframe\">\n",
              "  <thead>\n",
              "    <tr style=\"text-align: right;\">\n",
              "      <th></th>\n",
              "      <th>Name</th>\n",
              "      <th>Sex</th>\n",
              "      <th>Cabin</th>\n",
              "      <th>Ticket</th>\n",
              "      <th>Embarked</th>\n",
              "    </tr>\n",
              "  </thead>\n",
              "  <tbody>\n",
              "    <tr>\n",
              "      <th>0</th>\n",
              "      <td>206</td>\n",
              "      <td>1</td>\n",
              "      <td>76</td>\n",
              "      <td>152</td>\n",
              "      <td>1</td>\n",
              "    </tr>\n",
              "    <tr>\n",
              "      <th>1</th>\n",
              "      <td>403</td>\n",
              "      <td>0</td>\n",
              "      <td>76</td>\n",
              "      <td>221</td>\n",
              "      <td>2</td>\n",
              "    </tr>\n",
              "    <tr>\n",
              "      <th>2</th>\n",
              "      <td>269</td>\n",
              "      <td>1</td>\n",
              "      <td>76</td>\n",
              "      <td>73</td>\n",
              "      <td>1</td>\n",
              "    </tr>\n",
              "    <tr>\n",
              "      <th>3</th>\n",
              "      <td>408</td>\n",
              "      <td>1</td>\n",
              "      <td>76</td>\n",
              "      <td>147</td>\n",
              "      <td>2</td>\n",
              "    </tr>\n",
              "    <tr>\n",
              "      <th>4</th>\n",
              "      <td>178</td>\n",
              "      <td>0</td>\n",
              "      <td>76</td>\n",
              "      <td>138</td>\n",
              "      <td>2</td>\n",
              "    </tr>\n",
              "  </tbody>\n",
              "</table>\n",
              "</div>\n",
              "      <button class=\"colab-df-convert\" onclick=\"convertToInteractive('df-a664ecf1-cea5-4158-8a92-f03c747b96b6')\"\n",
              "              title=\"Convert this dataframe to an interactive table.\"\n",
              "              style=\"display:none;\">\n",
              "        \n",
              "  <svg xmlns=\"http://www.w3.org/2000/svg\" height=\"24px\"viewBox=\"0 0 24 24\"\n",
              "       width=\"24px\">\n",
              "    <path d=\"M0 0h24v24H0V0z\" fill=\"none\"/>\n",
              "    <path d=\"M18.56 5.44l.94 2.06.94-2.06 2.06-.94-2.06-.94-.94-2.06-.94 2.06-2.06.94zm-11 1L8.5 8.5l.94-2.06 2.06-.94-2.06-.94L8.5 2.5l-.94 2.06-2.06.94zm10 10l.94 2.06.94-2.06 2.06-.94-2.06-.94-.94-2.06-.94 2.06-2.06.94z\"/><path d=\"M17.41 7.96l-1.37-1.37c-.4-.4-.92-.59-1.43-.59-.52 0-1.04.2-1.43.59L10.3 9.45l-7.72 7.72c-.78.78-.78 2.05 0 2.83L4 21.41c.39.39.9.59 1.41.59.51 0 1.02-.2 1.41-.59l7.78-7.78 2.81-2.81c.8-.78.8-2.07 0-2.86zM5.41 20L4 18.59l7.72-7.72 1.47 1.35L5.41 20z\"/>\n",
              "  </svg>\n",
              "      </button>\n",
              "      \n",
              "  <style>\n",
              "    .colab-df-container {\n",
              "      display:flex;\n",
              "      flex-wrap:wrap;\n",
              "      gap: 12px;\n",
              "    }\n",
              "\n",
              "    .colab-df-convert {\n",
              "      background-color: #E8F0FE;\n",
              "      border: none;\n",
              "      border-radius: 50%;\n",
              "      cursor: pointer;\n",
              "      display: none;\n",
              "      fill: #1967D2;\n",
              "      height: 32px;\n",
              "      padding: 0 0 0 0;\n",
              "      width: 32px;\n",
              "    }\n",
              "\n",
              "    .colab-df-convert:hover {\n",
              "      background-color: #E2EBFA;\n",
              "      box-shadow: 0px 1px 2px rgba(60, 64, 67, 0.3), 0px 1px 3px 1px rgba(60, 64, 67, 0.15);\n",
              "      fill: #174EA6;\n",
              "    }\n",
              "\n",
              "    [theme=dark] .colab-df-convert {\n",
              "      background-color: #3B4455;\n",
              "      fill: #D2E3FC;\n",
              "    }\n",
              "\n",
              "    [theme=dark] .colab-df-convert:hover {\n",
              "      background-color: #434B5C;\n",
              "      box-shadow: 0px 1px 3px 1px rgba(0, 0, 0, 0.15);\n",
              "      filter: drop-shadow(0px 1px 2px rgba(0, 0, 0, 0.3));\n",
              "      fill: #FFFFFF;\n",
              "    }\n",
              "  </style>\n",
              "\n",
              "      <script>\n",
              "        const buttonEl =\n",
              "          document.querySelector('#df-a664ecf1-cea5-4158-8a92-f03c747b96b6 button.colab-df-convert');\n",
              "        buttonEl.style.display =\n",
              "          google.colab.kernel.accessAllowed ? 'block' : 'none';\n",
              "\n",
              "        async function convertToInteractive(key) {\n",
              "          const element = document.querySelector('#df-a664ecf1-cea5-4158-8a92-f03c747b96b6');\n",
              "          const dataTable =\n",
              "            await google.colab.kernel.invokeFunction('convertToInteractive',\n",
              "                                                     [key], {});\n",
              "          if (!dataTable) return;\n",
              "\n",
              "          const docLinkHtml = 'Like what you see? Visit the ' +\n",
              "            '<a target=\"_blank\" href=https://colab.research.google.com/notebooks/data_table.ipynb>data table notebook</a>'\n",
              "            + ' to learn more about interactive tables.';\n",
              "          element.innerHTML = '';\n",
              "          dataTable['output_type'] = 'display_data';\n",
              "          await google.colab.output.renderOutput(dataTable, element);\n",
              "          const docLink = document.createElement('div');\n",
              "          docLink.innerHTML = docLinkHtml;\n",
              "          element.appendChild(docLink);\n",
              "        }\n",
              "      </script>\n",
              "    </div>\n",
              "  </div>\n",
              "  "
            ]
          },
          "metadata": {},
          "execution_count": 17
        }
      ]
    },
    {
      "cell_type": "code",
      "source": [
        "titanicc_data.info()"
      ],
      "metadata": {
        "colab": {
          "base_uri": "https://localhost:8080/"
        },
        "id": "tdehpL3Bp8F4",
        "outputId": "54c1ef25-ce61-4392-c491-4869a45df99d"
      },
      "execution_count": null,
      "outputs": [
        {
          "output_type": "stream",
          "name": "stdout",
          "text": [
            "<class 'pandas.core.frame.DataFrame'>\n",
            "RangeIndex: 418 entries, 0 to 417\n",
            "Data columns (total 5 columns):\n",
            " #   Column    Non-Null Count  Dtype\n",
            "---  ------    --------------  -----\n",
            " 0   Name      418 non-null    int64\n",
            " 1   Sex       418 non-null    int64\n",
            " 2   Cabin     418 non-null    int64\n",
            " 3   Ticket    418 non-null    int64\n",
            " 4   Embarked  418 non-null    int64\n",
            "dtypes: int64(5)\n",
            "memory usage: 16.5 KB\n"
          ]
        }
      ]
    },
    {
      "cell_type": "code",
      "source": [
        "#Split and fit the model\n",
        "\n",
        "from sklearn.model_selection import train_test_split\n",
        "X_train, X_test, y_train, y_test = train_test_split(titanicc_data, titanicc.Survived, test_size=0.4,random_state=99)\n",
        "classifier = svm.SVC(kernel='linear')\n",
        " \n",
        "classifier.fit(X_train, y_train)\n",
        "y_pred = classifier.predict(X_test)\n",
        "# Model evaluation\n",
        "from sklearn import metrics\n",
        "print(\"Accuracy:\",metrics.accuracy_score(y_test, y_pred))\n",
        "confusion_matrix = metrics.confusion_matrix(y_test,y_pred)\n",
        "\n",
        "confusion_matrix"
      ],
      "metadata": {
        "colab": {
          "base_uri": "https://localhost:8080/"
        },
        "id": "is8t-DBJmYDI",
        "outputId": "078f7829-5b01-49b9-b6c5-c08355f31605"
      },
      "execution_count": null,
      "outputs": [
        {
          "output_type": "stream",
          "name": "stdout",
          "text": [
            "Accuracy: 1.0\n"
          ]
        },
        {
          "output_type": "execute_result",
          "data": {
            "text/plain": [
              "array([[102,   0],\n",
              "       [  0,  66]])"
            ]
          },
          "metadata": {},
          "execution_count": 19
        }
      ]
    },
    {
      "cell_type": "code",
      "source": [],
      "metadata": {
        "id": "jmCLh5B-wB5m"
      },
      "execution_count": null,
      "outputs": []
    }
  ]
}